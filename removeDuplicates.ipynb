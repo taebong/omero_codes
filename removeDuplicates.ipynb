{
 "cells": [
  {
   "cell_type": "code",
   "execution_count": 1,
   "metadata": {},
   "outputs": [],
   "source": [
    "import re\n",
    "from numpy import zeros\n",
    "import numpy as np\n",
    "import sys\n",
    "\n",
    "from omero.gateway import BlitzGateway\n",
    "import omero.util.script_utils as script_utils\n",
    "import omero.scripts as scripts\n",
    "import omero.clients\n",
    "import omero\n",
    "from omero.rtypes import rint, rlong, rstring, robject, unwrap"
   ]
  },
  {
   "cell_type": "code",
   "execution_count": 5,
   "metadata": {},
   "outputs": [],
   "source": [
    "################ to be changed depending on data\n",
    "input_dataset_id = 4555 #Dataset ID where individual images are\n",
    "session_id = '182039c9-0bb6-4845-b9af-907518b7cd0b'    #session id\n",
    "##################\n",
    "\n",
    "client = omero.client(\"omero.hms.harvard.edu\")\n",
    "session = client.joinSession(session_id)\n",
    "conn = BlitzGateway(client_obj=client)\n",
    "\n",
    "#get DataSet\n",
    "input_dataset = conn.getObject(\"Dataset\",input_dataset_id)   #input dataset\n",
    "\n",
    "images = list(input_dataset.listChildren())\n",
    "images.sort(key=lambda x: x.name.lower())\n",
    "image_ids = [x.getId() for x in images]\n",
    "image_names = [x.name for x in images]"
   ]
  },
  {
   "cell_type": "code",
   "execution_count": 7,
   "metadata": {},
   "outputs": [],
   "source": [
    "unique_names,inds = np.unique(image_names,return_index=True)"
   ]
  },
  {
   "cell_type": "code",
   "execution_count": 27,
   "metadata": {},
   "outputs": [],
   "source": [
    "to_delete_ids = [image_id for i,image_id in enumerate(image_ids) if i not in inds]"
   ]
  },
  {
   "cell_type": "code",
   "execution_count": 24,
   "metadata": {
    "scrolled": false
   },
   "outputs": [
    {
     "data": {
      "text/plain": [
       "2e888b84-0843-4e60-9022-6ff68ef21492/IHandlef60ddcb3-ed5f-4b2b-9e12-d5f81af7ab87 -t -e 1.0:tcp -h 134.174.149.200 -p 51719 -t 60000:tcp -h 10.0.64.90 -p 51719 -t 60000"
      ]
     },
     "execution_count": 24,
     "metadata": {},
     "output_type": "execute_result"
    }
   ],
   "source": [
    "conn.deleteObjects(\"Image\",to_delete_ids,wait=True);"
   ]
  }
 ],
 "metadata": {
  "kernelspec": {
   "display_name": "Python 2",
   "language": "python",
   "name": "python2"
  },
  "language_info": {
   "codemirror_mode": {
    "name": "ipython",
    "version": 2
   },
   "file_extension": ".py",
   "mimetype": "text/x-python",
   "name": "python",
   "nbconvert_exporter": "python",
   "pygments_lexer": "ipython2",
   "version": "2.7.15"
  }
 },
 "nbformat": 4,
 "nbformat_minor": 2
}
