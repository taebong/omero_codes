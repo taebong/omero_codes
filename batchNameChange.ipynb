{
 "cells": [
  {
   "cell_type": "code",
   "execution_count": 9,
   "metadata": {},
   "outputs": [],
   "source": [
    "import re\n",
    "from numpy import zeros\n",
    "import numpy as np\n",
    "import sys\n",
    "\n",
    "from omero.gateway import BlitzGateway\n",
    "import omero.util.script_utils as script_utils\n",
    "import omero.scripts as scripts\n",
    "import omero.clients\n",
    "import omero\n",
    "from omero.rtypes import rint, rlong, rstring, robject, unwrap"
   ]
  },
  {
   "cell_type": "code",
   "execution_count": 2,
   "metadata": {},
   "outputs": [],
   "source": [
    "################ to be changed depending on data\n",
    "channel_regex = r'_Channel(?P<Channel>.+?)_'\n",
    "z_regex = False\n",
    "time_regex = r'Time(?P<Time>\\d+?)_'\n",
    "field_regex = r'\\(series (?P<Field>\\d+?)\\)'\n",
    "well_regex = r'Well(?P<Well>\\w+?)_'\n",
    "\n",
    "chan_change = {'Fluo Green':'488nm'}\n",
    "\n",
    "input_dataset_id = 4514 #Dataset ID where individual images are\n",
    "session_id = 'd8bea34a-cb18-4e58-93a7-20d80890d204'    #session id\n",
    "##################\n",
    "\n",
    "regexes = {'Well':well_regex,'Field':field_regex,'Channel':channel_regex,'Z':z_regex,'Time':time_regex}"
   ]
  },
  {
   "cell_type": "code",
   "execution_count": 3,
   "metadata": {},
   "outputs": [],
   "source": [
    "client = omero.client(\"omero.hms.harvard.edu\")\n",
    "session = client.joinSession(session_id)\n",
    "conn = BlitzGateway(client_obj=client)\n",
    "\n",
    "#get DataSet\n",
    "input_dataset = conn.getObject(\"Dataset\",input_dataset_id)   #input dataset\n",
    "\n",
    "images = list(input_dataset.listChildren())\n",
    "images.sort(key=lambda x: x.name.lower())\n",
    "image_ids = [x.getId() for x in images]\n",
    "image_names = [x.name for x in images]"
   ]
  },
  {
   "cell_type": "code",
   "execution_count": 4,
   "metadata": {},
   "outputs": [],
   "source": [
    "recomps = {}\n",
    "for key,regex in regexes.items():\n",
    "    if regex:\n",
    "        recomps[key] = re.compile(regex)"
   ]
  },
  {
   "cell_type": "code",
   "execution_count": 5,
   "metadata": {},
   "outputs": [],
   "source": [
    "dim_order = ['Well','Field','Channel','Z','Time']\n",
    "\n",
    "dims = [dim for dim in dim_order if dim in recomps.keys() ]\n",
    "\n",
    "new_names = np.array([])\n",
    "\n",
    "for image_name in image_names:\n",
    "    new_name = ''\n",
    "    \n",
    "    for i,dim in enumerate(dims):\n",
    "        match = recomps[dim].search(image_name).group(dim)\n",
    "        if (dim == 'Channel'):\n",
    "            if match in chan_change.keys():\n",
    "                match = chan_change[match]\n",
    "                \n",
    "        new_name = new_name + dim + match\n",
    "        \n",
    "        if i < len(dims)-1:\n",
    "            new_name = new_name + '_'\n",
    "            \n",
    "    new_names = np.append(new_names,new_name)"
   ]
  },
  {
   "cell_type": "code",
   "execution_count": 14,
   "metadata": {},
   "outputs": [],
   "source": [
    "for i,im in enumerate(images):\n",
    "    im.setName(new_names[i])\n",
    "    im.save()"
   ]
  }
 ],
 "metadata": {
  "kernelspec": {
   "display_name": "Python 2",
   "language": "python",
   "name": "python2"
  },
  "language_info": {
   "codemirror_mode": {
    "name": "ipython",
    "version": 2
   },
   "file_extension": ".py",
   "mimetype": "text/x-python",
   "name": "python",
   "nbconvert_exporter": "python",
   "pygments_lexer": "ipython2",
   "version": "2.7.15"
  }
 },
 "nbformat": 4,
 "nbformat_minor": 2
}
